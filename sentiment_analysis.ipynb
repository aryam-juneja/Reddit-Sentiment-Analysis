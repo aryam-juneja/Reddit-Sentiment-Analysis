{
 "cells": [
  {
   "cell_type": "code",
   "execution_count": 5,
   "metadata": {},
   "outputs": [],
   "source": [
    "import matplotlib.pyplot as plt \n",
    "import numpy as np\n",
    "import pandas as pd\n",
    "import re\n",
    "import praw\n",
    "import scipy as sp\n",
    "# import seaborn as sns\n",
    "# import os\n",
    "# import wordcloud    "
   ]
  },
  {
   "cell_type": "code",
   "execution_count": 6,
   "metadata": {},
   "outputs": [],
   "source": [
    "reddit = praw.Reddit(\n",
    "    client_id = \"yO56EjMa6KW35zO_7hY8FA\", \n",
    "    client_secret = \"Hake4HRJXiRpUGUkXiGiEddb2gAl5Q\", \n",
    "    password=\"justdealwithit@#1234\",\n",
    "    user_agent = \"comment_scraper (by /u/i-am-just-a-baby)\",\n",
    "    username = \"i-am-just-a-baby\"\n",
    "                    )"
   ]
  },
  {
   "cell_type": "code",
   "execution_count": 7,
   "metadata": {},
   "outputs": [],
   "source": [
    "subreddit = reddit.subreddit(\"IsraelPalestine\")\n",
    "url_list = []\n",
    "for submission in subreddit.top(limit=300):\n",
    "    url_list.append(submission.url)"
   ]
  },
  {
   "cell_type": "code",
   "execution_count": 8,
   "metadata": {},
   "outputs": [
    {
     "name": "stdout",
     "output_type": "stream",
     "text": [
      "Skipping invalid URL: https://i.redd.it/s0fuafnijiv61.jpg\n",
      "Skipping invalid URL: https://i.redd.it/sie9us96w9c71.jpg\n",
      "Skipping invalid URL: https://i.redd.it/mj4pdbjpesn61.jpg\n",
      "Skipping invalid URL: https://i.imgur.com/ouNS4Nx.jpg\n",
      "Skipping invalid URL: https://i.redd.it/o5jg6znhdfk61.jpg\n",
      "Skipping invalid URL: https://i.redd.it/75l3ftqlnnn61.jpg\n",
      "Skipping invalid URL: https://i.redd.it/p3knzgktb5f61.jpg\n",
      "Skipping invalid URL: https://i.redd.it/terx0txrvd941.jpg\n"
     ]
    }
   ],
   "source": [
    "comments = []\n",
    "for url in url_list:\n",
    "    try:\n",
    "        submission = reddit.submission(url=url)\n",
    "        submission.comments.replace_more(limit=0)\n",
    "        for comment in submission.comments.list():\n",
    "            if isinstance(comment.body, str) and comment.body != '[deleted]':  # Check if the comment body is a string (text)\n",
    "                comments.append(comment.body)\n",
    "    except praw.exceptions.InvalidURL:\n",
    "        print(f\"Skipping invalid URL: {url}\")\n"
   ]
  },
  {
   "cell_type": "code",
   "execution_count": 9,
   "metadata": {},
   "outputs": [
    {
     "data": {
      "text/plain": [
       "103854"
      ]
     },
     "execution_count": 9,
     "metadata": {},
     "output_type": "execute_result"
    }
   ],
   "source": [
    "len(comments)"
   ]
  },
  {
   "cell_type": "code",
   "execution_count": 10,
   "metadata": {},
   "outputs": [],
   "source": [
    "df = pd.DataFrame(comments, columns=['comment'])"
   ]
  },
  {
   "cell_type": "code",
   "execution_count": 11,
   "metadata": {},
   "outputs": [],
   "source": [
    "df.to_csv('comments.csv', index=False)"
   ]
  },
  {
   "cell_type": "code",
   "execution_count": 14,
   "metadata": {},
   "outputs": [],
   "source": [
    "df = df[df['comment'] != '[removed]']"
   ]
  },
  {
   "cell_type": "code",
   "execution_count": 17,
   "metadata": {},
   "outputs": [],
   "source": [
    "df = df[df['comment'] != '']"
   ]
  },
  {
   "cell_type": "code",
   "execution_count": 20,
   "metadata": {},
   "outputs": [],
   "source": [
    "df.to_csv('comments.csv', index=False)"
   ]
  }
 ],
 "metadata": {
  "kernelspec": {
   "display_name": "Python 3",
   "language": "python",
   "name": "python3"
  },
  "language_info": {
   "codemirror_mode": {
    "name": "ipython",
    "version": 3
   },
   "file_extension": ".py",
   "mimetype": "text/x-python",
   "name": "python",
   "nbconvert_exporter": "python",
   "pygments_lexer": "ipython3",
   "version": "3.11.1"
  }
 },
 "nbformat": 4,
 "nbformat_minor": 2
}
